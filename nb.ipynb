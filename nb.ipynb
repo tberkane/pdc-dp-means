{
 "cells": [
  {
   "cell_type": "code",
   "execution_count": 1,
   "metadata": {},
   "outputs": [
    {
     "name": "stdout",
     "output_type": "stream",
     "text": [
      "meson-python: building scikit-learn: /home/thomas/miniconda3/envs/sklearn-env/bin/ninja\n",
      "[0/1] Regenerating build files.\n",
      "The Meson build system\n",
      "Version: 1.5.1\n",
      "Source dir: /home/thomas/Documents/bch/scikit-learn\n",
      "Build dir: /home/thomas/Documents/bch/scikit-learn/build/cp312\n",
      "Build type: native build\n",
      "\n",
      "../../meson.build:4:11: ERROR: Program or command 'sklearn/_build_utils/version.py' not found or not executable\n",
      "\n",
      "A full log can be found at /home/thomas/Documents/bch/scikit-learn/build/cp312/meson-logs/meson-log.txt\n",
      "\u001b[31mFAILED: \u001b[0mbuild.ninja \n",
      "/home/thomas/miniconda3/envs/sklearn-env/bin/meson --internal regenerate /home/thomas/Documents/bch/scikit-learn .\n"
     ]
    },
    {
     "name": "stderr",
     "output_type": "stream",
     "text": [
      "ninja: error: rebuilding 'build.ninja': subcommand failed\n"
     ]
    },
    {
     "ename": "ModuleNotFoundError",
     "evalue": "No module named 'sklearn.utils.extmath'",
     "output_type": "error",
     "traceback": [
      "\u001b[0;31m---------------------------------------------------------------------------\u001b[0m",
      "\u001b[0;31mModuleNotFoundError\u001b[0m                       Traceback (most recent call last)",
      "Cell \u001b[0;32mIn[1], line 1\u001b[0m\n\u001b[0;32m----> 1\u001b[0m \u001b[38;5;28;01mfrom\u001b[39;00m \u001b[38;5;21;01mpdc_dp_means\u001b[39;00m \u001b[38;5;28;01mimport\u001b[39;00m DPMeans\n",
      "File \u001b[0;32m~/Documents/bch/pdc-dp-means/pdc_dp_means/__init__.py:1\u001b[0m\n\u001b[0;32m----> 1\u001b[0m \u001b[38;5;28;01mfrom\u001b[39;00m \u001b[38;5;21;01m.\u001b[39;00m\u001b[38;5;21;01mdpmeans\u001b[39;00m \u001b[38;5;28;01mimport\u001b[39;00m MiniBatchDPMeans, DPMeans\n",
      "File \u001b[0;32m~/Documents/bch/pdc-dp-means/pdc_dp_means/dpmeans.py:7\u001b[0m\n\u001b[1;32m      4\u001b[0m \u001b[38;5;28;01mimport\u001b[39;00m \u001b[38;5;21;01mnumpy\u001b[39;00m \u001b[38;5;28;01mas\u001b[39;00m \u001b[38;5;21;01mnp\u001b[39;00m\n\u001b[1;32m      5\u001b[0m \u001b[38;5;28;01mimport\u001b[39;00m \u001b[38;5;21;01mscipy\u001b[39;00m\u001b[38;5;21;01m.\u001b[39;00m\u001b[38;5;21;01msparse\u001b[39;00m \u001b[38;5;28;01mas\u001b[39;00m \u001b[38;5;21;01msp\u001b[39;00m\n\u001b[0;32m----> 7\u001b[0m \u001b[38;5;28;01mfrom\u001b[39;00m \u001b[38;5;21;01msklearn\u001b[39;00m\u001b[38;5;21;01m.\u001b[39;00m\u001b[38;5;21;01mcluster\u001b[39;00m\u001b[38;5;21;01m.\u001b[39;00m\u001b[38;5;21;01m_k_means_common\u001b[39;00m \u001b[38;5;28;01mimport\u001b[39;00m _inertia_dense\n\u001b[1;32m      8\u001b[0m \u001b[38;5;28;01mfrom\u001b[39;00m \u001b[38;5;21;01msklearn\u001b[39;00m\u001b[38;5;21;01m.\u001b[39;00m\u001b[38;5;21;01mcluster\u001b[39;00m\u001b[38;5;21;01m.\u001b[39;00m\u001b[38;5;21;01m_k_means_lloyd\u001b[39;00m \u001b[38;5;28;01mimport\u001b[39;00m lloyd_iter_chunked_dense\n\u001b[1;32m      9\u001b[0m \u001b[38;5;28;01mfrom\u001b[39;00m \u001b[38;5;21;01msklearn\u001b[39;00m\u001b[38;5;21;01m.\u001b[39;00m\u001b[38;5;21;01mcluster\u001b[39;00m\u001b[38;5;21;01m.\u001b[39;00m\u001b[38;5;21;01m_kmeans\u001b[39;00m \u001b[38;5;28;01mimport\u001b[39;00m (\n\u001b[1;32m     10\u001b[0m     KMeans,\n\u001b[1;32m     11\u001b[0m     _labels_inertia_threadpool_limit,\n\u001b[1;32m     12\u001b[0m     _minibatch_update_dense,\n\u001b[1;32m     13\u001b[0m )\n",
      "File \u001b[0;32m_k_means_common.pyx:9\u001b[0m, in \u001b[0;36minit sklearn.cluster._k_means_common\u001b[0;34m()\u001b[0m\n",
      "\u001b[0;31mModuleNotFoundError\u001b[0m: No module named 'sklearn.utils.extmath'"
     ]
    }
   ],
   "source": [
    "from pdc_dp_means import DPMeans"
   ]
  },
  {
   "cell_type": "code",
   "execution_count": null,
   "metadata": {},
   "outputs": [],
   "source": [
    "from sklearn.datasets import make_blobs\n",
    "from pdc_dp_means import DPMeans\n",
    "\n",
    "# Generate sample data\n",
    "X, y_true = make_blobs(n_samples=300, centers=4, cluster_std=0.60, random_state=0)\n",
    "\n",
    "# Apply DPMeans clustering\n",
    "dpmeans = DPMeans(n_clusters=1, n_init=10, delta=10)  # n_init and delta parameters\n",
    "dpmeans.fit(X)\n",
    "\n",
    "# Predict the cluster for each data point\n",
    "y_dpmeans = dpmeans.predict(X)\n",
    "\n",
    "# Plotting clusters and centroids\n",
    "import matplotlib.pyplot as plt\n",
    "\n",
    "plt.scatter(X[:, 0], X[:, 1], c=y_dpmeans, s=50, cmap=\"viridis\")\n",
    "centers = dpmeans.cluster_centers_\n",
    "plt.scatter(centers[:, 0], centers[:, 1], c=\"black\", s=200, alpha=0.5)\n",
    "plt.show()"
   ]
  },
  {
   "cell_type": "code",
   "execution_count": null,
   "metadata": {},
   "outputs": [],
   "source": []
  }
 ],
 "metadata": {
  "kernelspec": {
   "display_name": "pdc-dp-means-upgrade",
   "language": "python",
   "name": "python3"
  },
  "language_info": {
   "codemirror_mode": {
    "name": "ipython",
    "version": 3
   },
   "file_extension": ".py",
   "mimetype": "text/x-python",
   "name": "python",
   "nbconvert_exporter": "python",
   "pygments_lexer": "ipython3",
   "version": "3.12.5"
  }
 },
 "nbformat": 4,
 "nbformat_minor": 2
}
